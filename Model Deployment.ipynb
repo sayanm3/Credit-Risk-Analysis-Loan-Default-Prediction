{
 "cells": [
  {
   "cell_type": "code",
   "execution_count": 29,
   "id": "aba0062f-c7ba-446d-9405-93c5a7f14557",
   "metadata": {},
   "outputs": [],
   "source": [
    "import pandas as pd\n",
    "from sklearn.model_selection import train_test_split, GridSearchCV\n",
    "from sklearn.preprocessing import StandardScaler\n",
    "from sklearn.linear_model import LogisticRegression\n",
    "import streamlit as st\n",
    "import joblib\n",
    "import warnings\n",
    "warnings.filterwarnings(\"ignore\")"
   ]
  },
  {
   "cell_type": "code",
   "execution_count": 30,
   "id": "7e30dee1-d772-4d6b-a538-989ee4453aa3",
   "metadata": {},
   "outputs": [],
   "source": [
    "data = pd.read_csv('Task 3 and 4_Loan_Data.csv')"
   ]
  },
  {
   "cell_type": "code",
   "execution_count": 31,
   "id": "0520ef34-aa4f-48cf-91c7-5c65dd34c48c",
   "metadata": {},
   "outputs": [],
   "source": [
    "def extract_features(data):\n",
    "    # Assuming features are already extracted from the dataset\n",
    "    features = data[['credit_lines_outstanding', 'debt_to_income', 'payment_to_income', 'years_employed', 'fico_score']]\n",
    "    return features"
   ]
  },
  {
   "cell_type": "code",
   "execution_count": 32,
   "id": "2cb34ba6-a6fc-4ffd-a4c4-dd9cd212abf0",
   "metadata": {},
   "outputs": [],
   "source": [
    "data['payment_to_income'] = data['loan_amt_outstanding'] / data['income']\n",
    "data['debt_to_income'] = data['total_debt_outstanding'] / data['income']"
   ]
  },
  {
   "cell_type": "code",
   "execution_count": 33,
   "id": "9da90621-d1c7-4085-a2df-425bdbf10921",
   "metadata": {},
   "outputs": [],
   "source": [
    "X = extract_features(data)\n",
    "y = data['default']"
   ]
  },
  {
   "cell_type": "code",
   "execution_count": 34,
   "id": "14c1fc42-7bda-411e-89ec-a9b17e45d898",
   "metadata": {},
   "outputs": [],
   "source": [
    "X_train, X_test, y_train, y_test = train_test_split(X, y, test_size=0.2, random_state=42)"
   ]
  },
  {
   "cell_type": "code",
   "execution_count": 35,
   "id": "3229691c-1f72-44ae-a2f3-c9e674ad5498",
   "metadata": {},
   "outputs": [],
   "source": [
    "scaler = StandardScaler()\n",
    "X_train_scaled = scaler.fit_transform(X_train)\n",
    "X_test_scaled = scaler.transform(X_test)"
   ]
  },
  {
   "cell_type": "code",
   "execution_count": 36,
   "id": "2b583a01-69db-4b6a-a5fe-162622852c10",
   "metadata": {},
   "outputs": [
    {
     "data": {
      "text/html": [
       "<style>#sk-container-id-3 {color: black;background-color: white;}#sk-container-id-3 pre{padding: 0;}#sk-container-id-3 div.sk-toggleable {background-color: white;}#sk-container-id-3 label.sk-toggleable__label {cursor: pointer;display: block;width: 100%;margin-bottom: 0;padding: 0.3em;box-sizing: border-box;text-align: center;}#sk-container-id-3 label.sk-toggleable__label-arrow:before {content: \"▸\";float: left;margin-right: 0.25em;color: #696969;}#sk-container-id-3 label.sk-toggleable__label-arrow:hover:before {color: black;}#sk-container-id-3 div.sk-estimator:hover label.sk-toggleable__label-arrow:before {color: black;}#sk-container-id-3 div.sk-toggleable__content {max-height: 0;max-width: 0;overflow: hidden;text-align: left;background-color: #f0f8ff;}#sk-container-id-3 div.sk-toggleable__content pre {margin: 0.2em;color: black;border-radius: 0.25em;background-color: #f0f8ff;}#sk-container-id-3 input.sk-toggleable__control:checked~div.sk-toggleable__content {max-height: 200px;max-width: 100%;overflow: auto;}#sk-container-id-3 input.sk-toggleable__control:checked~label.sk-toggleable__label-arrow:before {content: \"▾\";}#sk-container-id-3 div.sk-estimator input.sk-toggleable__control:checked~label.sk-toggleable__label {background-color: #d4ebff;}#sk-container-id-3 div.sk-label input.sk-toggleable__control:checked~label.sk-toggleable__label {background-color: #d4ebff;}#sk-container-id-3 input.sk-hidden--visually {border: 0;clip: rect(1px 1px 1px 1px);clip: rect(1px, 1px, 1px, 1px);height: 1px;margin: -1px;overflow: hidden;padding: 0;position: absolute;width: 1px;}#sk-container-id-3 div.sk-estimator {font-family: monospace;background-color: #f0f8ff;border: 1px dotted black;border-radius: 0.25em;box-sizing: border-box;margin-bottom: 0.5em;}#sk-container-id-3 div.sk-estimator:hover {background-color: #d4ebff;}#sk-container-id-3 div.sk-parallel-item::after {content: \"\";width: 100%;border-bottom: 1px solid gray;flex-grow: 1;}#sk-container-id-3 div.sk-label:hover label.sk-toggleable__label {background-color: #d4ebff;}#sk-container-id-3 div.sk-serial::before {content: \"\";position: absolute;border-left: 1px solid gray;box-sizing: border-box;top: 0;bottom: 0;left: 50%;z-index: 0;}#sk-container-id-3 div.sk-serial {display: flex;flex-direction: column;align-items: center;background-color: white;padding-right: 0.2em;padding-left: 0.2em;position: relative;}#sk-container-id-3 div.sk-item {position: relative;z-index: 1;}#sk-container-id-3 div.sk-parallel {display: flex;align-items: stretch;justify-content: center;background-color: white;position: relative;}#sk-container-id-3 div.sk-item::before, #sk-container-id-3 div.sk-parallel-item::before {content: \"\";position: absolute;border-left: 1px solid gray;box-sizing: border-box;top: 0;bottom: 0;left: 50%;z-index: -1;}#sk-container-id-3 div.sk-parallel-item {display: flex;flex-direction: column;z-index: 1;position: relative;background-color: white;}#sk-container-id-3 div.sk-parallel-item:first-child::after {align-self: flex-end;width: 50%;}#sk-container-id-3 div.sk-parallel-item:last-child::after {align-self: flex-start;width: 50%;}#sk-container-id-3 div.sk-parallel-item:only-child::after {width: 0;}#sk-container-id-3 div.sk-dashed-wrapped {border: 1px dashed gray;margin: 0 0.4em 0.5em 0.4em;box-sizing: border-box;padding-bottom: 0.4em;background-color: white;}#sk-container-id-3 div.sk-label label {font-family: monospace;font-weight: bold;display: inline-block;line-height: 1.2em;}#sk-container-id-3 div.sk-label-container {text-align: center;}#sk-container-id-3 div.sk-container {/* jupyter's `normalize.less` sets `[hidden] { display: none; }` but bootstrap.min.css set `[hidden] { display: none !important; }` so we also need the `!important` here to be able to override the default hidden behavior on the sphinx rendered scikit-learn.org. See: https://github.com/scikit-learn/scikit-learn/issues/21755 */display: inline-block !important;position: relative;}#sk-container-id-3 div.sk-text-repr-fallback {display: none;}</style><div id=\"sk-container-id-3\" class=\"sk-top-container\"><div class=\"sk-text-repr-fallback\"><pre>GridSearchCV(cv=5, estimator=LogisticRegression(),\n",
       "             param_grid={&#x27;C&#x27;: [0.001, 0.01, 0.1, 1, 10]})</pre><b>In a Jupyter environment, please rerun this cell to show the HTML representation or trust the notebook. <br />On GitHub, the HTML representation is unable to render, please try loading this page with nbviewer.org.</b></div><div class=\"sk-container\" hidden><div class=\"sk-item sk-dashed-wrapped\"><div class=\"sk-label-container\"><div class=\"sk-label sk-toggleable\"><input class=\"sk-toggleable__control sk-hidden--visually\" id=\"sk-estimator-id-7\" type=\"checkbox\" ><label for=\"sk-estimator-id-7\" class=\"sk-toggleable__label sk-toggleable__label-arrow\">GridSearchCV</label><div class=\"sk-toggleable__content\"><pre>GridSearchCV(cv=5, estimator=LogisticRegression(),\n",
       "             param_grid={&#x27;C&#x27;: [0.001, 0.01, 0.1, 1, 10]})</pre></div></div></div><div class=\"sk-parallel\"><div class=\"sk-parallel-item\"><div class=\"sk-item\"><div class=\"sk-label-container\"><div class=\"sk-label sk-toggleable\"><input class=\"sk-toggleable__control sk-hidden--visually\" id=\"sk-estimator-id-8\" type=\"checkbox\" ><label for=\"sk-estimator-id-8\" class=\"sk-toggleable__label sk-toggleable__label-arrow\">estimator: LogisticRegression</label><div class=\"sk-toggleable__content\"><pre>LogisticRegression()</pre></div></div></div><div class=\"sk-serial\"><div class=\"sk-item\"><div class=\"sk-estimator sk-toggleable\"><input class=\"sk-toggleable__control sk-hidden--visually\" id=\"sk-estimator-id-9\" type=\"checkbox\" ><label for=\"sk-estimator-id-9\" class=\"sk-toggleable__label sk-toggleable__label-arrow\">LogisticRegression</label><div class=\"sk-toggleable__content\"><pre>LogisticRegression()</pre></div></div></div></div></div></div></div></div></div></div>"
      ],
      "text/plain": [
       "GridSearchCV(cv=5, estimator=LogisticRegression(),\n",
       "             param_grid={'C': [0.001, 0.01, 0.1, 1, 10]})"
      ]
     },
     "execution_count": 36,
     "metadata": {},
     "output_type": "execute_result"
    }
   ],
   "source": [
    "#Hyperparameter Tuning and Model Training\n",
    "# Logistic Regression\n",
    "logreg_params = {'C': [0.001, 0.01, 0.1, 1, 10]}\n",
    "logreg_grid = GridSearchCV(LogisticRegression(), logreg_params, cv=5)\n",
    "logreg_grid.fit(X_train_scaled, y_train)"
   ]
  },
  {
   "cell_type": "code",
   "execution_count": 37,
   "id": "5233f37c-9437-4129-aaaa-7c666e24ffbd",
   "metadata": {},
   "outputs": [],
   "source": [
    "# Model Evaluation\n",
    "logreg_model = logreg_grid.best_estimator_\n",
    "logreg_pred = logreg_model.predict(X_test_scaled)"
   ]
  },
  {
   "cell_type": "markdown",
   "id": "d4e90225-d328-4949-8dbc-75b1feeb9872",
   "metadata": {},
   "source": [
    "**Loading the Trained Logistic Regression Model and Scaler**"
   ]
  },
  {
   "cell_type": "code",
   "execution_count": 38,
   "id": "7538d9e5-0ab5-4b0d-b6a5-f8e0fff5e6df",
   "metadata": {},
   "outputs": [],
   "source": [
    "model = joblib.load('logistic_regression_model.pkl')\n",
    "scaler = joblib.load('scaler.pkl')"
   ]
  },
  {
   "cell_type": "markdown",
   "id": "06e0f696-ef3c-4a0d-acc5-10c2c4431583",
   "metadata": {},
   "source": [
    "**Streamlit Deployment**"
   ]
  },
  {
   "cell_type": "code",
   "execution_count": 39,
   "id": "9b967d53-2804-4750-b2df-c5445e0a6406",
   "metadata": {},
   "outputs": [
    {
     "data": {
      "text/plain": [
       "DeltaGenerator()"
      ]
     },
     "execution_count": 39,
     "metadata": {},
     "output_type": "execute_result"
    }
   ],
   "source": [
    "st.title('Loan Default Prediction')"
   ]
  },
  {
   "cell_type": "code",
   "execution_count": 40,
   "id": "14d41c68-b434-480b-a6e4-87ab8ab6aaa9",
   "metadata": {},
   "outputs": [],
   "source": [
    "def main():\n",
    "    st.write('Enter customer details:')\n",
    "    credit_lines_outstanding = st.number_input('Credit Lines Outstanding', min_value=0)\n",
    "    debt_to_income = st.number_input('Debt to Income Ratio', min_value=0.00, format=\"%.4f\")\n",
    "    payment_to_income = st.number_input('Payment to Income Ratio', min_value=0.00, format=\"%.4f\")\n",
    "    years_employed = st.number_input('Years Employed', min_value=0)\n",
    "    fico_score = st.number_input('FICO Score', min_value=0)\n",
    "\n",
    "    if st.button('Predict'):\n",
    "        # Transform input data\n",
    "        input_data = pd.DataFrame({'credit_lines_outstanding': [credit_lines_outstanding],\n",
    "                                   'debt_to_income': [debt_to_income],\n",
    "                                   'payment_to_income': [payment_to_income],\n",
    "                                   'years_employed': [years_employed],\n",
    "                                   'fico_score': [fico_score]})\n",
    "        input_data_scaled = scaler.transform(input_data)\n",
    "\n",
    "        # Make prediction\n",
    "        prediction = model.predict(input_data_scaled)\n",
    "\n",
    "        # Display prediction result\n",
    "        if prediction[0] == 1:\n",
    "            st.error('Risk of Default: Yes')\n",
    "        else:\n",
    "            st.success('Risk of Default: No')\n",
    "\n",
    "if __name__ == '__main__':\n",
    "    main()"
   ]
  }
 ],
 "metadata": {
  "kernelspec": {
   "display_name": "Python 3 (ipykernel)",
   "language": "python",
   "name": "python3"
  },
  "language_info": {
   "codemirror_mode": {
    "name": "ipython",
    "version": 3
   },
   "file_extension": ".py",
   "mimetype": "text/x-python",
   "name": "python",
   "nbconvert_exporter": "python",
   "pygments_lexer": "ipython3",
   "version": "3.8.10"
  }
 },
 "nbformat": 4,
 "nbformat_minor": 5
}
